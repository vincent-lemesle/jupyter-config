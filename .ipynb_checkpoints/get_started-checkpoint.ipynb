{
 "cells": [
  {
   "cell_type": "markdown",
   "metadata": {},
   "source": [
    "# GET STARTED\n",
    "\n",
    "This workspace is a [Jupyter Lab](https://jupyterlab.readthedocs.io/en/stable/)!\n",
    "\n",
    "## Save\n",
    "\n",
    "**important**: Be sure you saved all of your changes before stopping your workspace.\n",
    "<br/>\n",
    "At each stop, we will save your work in you current directory \"/app/workspace\".\n",
    "\n",
    "## Datasets\n",
    "\n",
    "You can link a dataset in the sidebar.\n",
    "You will find your linked datasets in \"/app/datasets\"\n",
    "\n",
    "## Download\n",
    "\n",
    "Click on the download icon in the workspaces list to get it! It must be stopped\n",
    "\n",
    "\n",
    "## Billing\n",
    "\n",
    "**important**: You will be charged each minute.\n",
    "<br/>\n",
    "If you don't have enough credits, we'll save and stop your work."
   ]
  },
  {
   "cell_type": "code",
   "execution_count": null,
   "metadata": {},
   "outputs": [],
   "source": []
  }
 ],
 "metadata": {
  "kernelspec": {
   "display_name": "Python 3",
   "language": "python",
   "name": "python3"
  },
  "language_info": {
   "codemirror_mode": {
    "name": "ipython",
    "version": 3
   },
   "file_extension": ".py",
   "mimetype": "text/x-python",
   "name": "python",
   "nbconvert_exporter": "python",
   "pygments_lexer": "ipython3",
   "version": "3.7.6"
  }
 },
 "nbformat": 4,
 "nbformat_minor": 4
}
