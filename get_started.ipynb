{
 "cells": [
  {
   "cell_type": "markdown",
   "metadata": {},
   "source": [
    "# GET STARTED\n",
    "\n",
    "This workspace is a [Jupyter Lab](https://jupyterlab.readthedocs.io/en/stable/)!\n",
    "\n",
    "You can find your linked datasets in \"/app/datasets\"\n",
    "\n",
    "Be sure you saved all of your changes before stopping your workspace.\n",
    "\n",
    "At each stop, we will save your work in you current directory \"/app/workspace\".\n",
    "\n",
    "## Download\n",
    "\n",
    "Click on the download icon in the workspaces list to get it! It must be stopped\n",
    "\n",
    "![](dl.png)\n",
    "\n",
    "## Billing\n",
    "\n",
    "**important**: you will be charged each minutes.\n",
    "If you don't have enough credits, we'll save and stop your work."
   ]
  },
  {
   "cell_type": "code",
   "execution_count": null,
   "metadata": {},
   "outputs": [],
   "source": []
  }
 ],
 "metadata": {
  "kernelspec": {
   "display_name": "Python 3",
   "language": "python",
   "name": "python3"
  },
  "language_info": {
   "codemirror_mode": {
    "name": "ipython",
    "version": 3
   },
   "file_extension": ".py",
   "mimetype": "text/x-python",
   "name": "python",
   "nbconvert_exporter": "python",
   "pygments_lexer": "ipython3",
   "version": "3.7.6"
  }
 },
 "nbformat": 4,
 "nbformat_minor": 4
}
